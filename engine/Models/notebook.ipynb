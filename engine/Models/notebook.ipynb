{
 "cells": [
  {
   "cell_type": "markdown",
   "metadata": {
    "_cell_guid": "0c4adb70-58fd-4350-84d3-a82c09e38d9b",
    "_uuid": "3cedbd1801eb1c2cc2683a8614890f83edb3ff72"
   },
   "source": [
    "## Comment Toxicity Classificaion\n",
    "\n",
    "+ This folder Contains 3 files :\n",
    "    - train.csv\n",
    "    - test.csv\n",
    "    - sample_submission.csv"
   ]
  },
  {
   "cell_type": "code",
   "execution_count": null,
   "metadata": {
    "_cell_guid": "17be8032-74cf-4070-87ee-61e3a39628fc",
    "_uuid": "cdc61ab785e644be40439072dc51e305ffa85c67",
    "collapsed": true
   },
   "outputs": [],
   "source": [
    "%ls -l"
   ]
  },
  {
   "cell_type": "markdown",
   "metadata": {
    "_cell_guid": "2e94bfd6-41ed-4cbe-8cd2-50bbff28972b",
    "_uuid": "e6bd1dc66faceda228d691142445ee39f95950c6"
   },
   "source": [
    "## Import required packages\n",
    "\n",
    "+ Basics\n",
    "+ Vizualization\n",
    "+ Natural language Processing tool\n",
    "+ Feture Engineering\n",
    "+ Setting"
   ]
  },
  {
   "cell_type": "code",
   "execution_count": 4,
   "metadata": {
    "_cell_guid": "f42e7945-a31b-4ac7-a233-3210627feb79",
    "_uuid": "bab68dad5062c59646efebe50b4c2a0d3aaccc3f",
    "collapsed": true
   },
   "outputs": [],
   "source": [
    "import pandas as pd \n",
    "import numpy as np"
   ]
  },
  {
   "cell_type": "code",
   "execution_count": 8,
   "metadata": {
    "_cell_guid": "50b41498-cdde-4259-b4bb-137552dd623a",
    "_uuid": "23f4aa01afe93dfec789c2227e3b711ff6e21454",
    "collapsed": true
   },
   "outputs": [],
   "source": [
    "import matplotlib.pyplot as plt\n",
    "import matplotlib.gridspec as gridspec \n",
    "import seaborn as sns\n",
    "from wordcloud import WordCloud ,STOPWORDS\n",
    "from PIL import Image"
   ]
  },
  {
   "cell_type": "code",
   "execution_count": null,
   "metadata": {
    "_cell_guid": "876ec29b-e3ca-4c28-a640-80376a847be8",
    "_uuid": "182b90d39bf014ed950a70d4bf04c5f73e28fc9b",
    "collapsed": true
   },
   "outputs": [],
   "source": [
    "import string\n",
    "import re    \n",
    "import nltk\n",
    "from nltk.corpus import stopwords"
   ]
  },
  {
   "cell_type": "code",
   "execution_count": null,
   "metadata": {
    "_cell_guid": "1c945c9b-56ca-4bcc-bfad-8a056f402ad0",
    "_uuid": "d92c0799c9bc14076f3d298f645e7caf7553f362",
    "collapsed": true
   },
   "outputs": [],
   "source": [
    "from sklearn.feature_extraction.text import TfidfVectorizer, CountVectorizer, HashingVectorizer\n",
    "from sklearn.decomposition import TruncatedSVD\n",
    "\n",
    "stoplist = set(stopwords.words(\"english\"))\n",
    "%matplotlib inline"
   ]
  },
  {
   "cell_type": "markdown",
   "metadata": {
    "_cell_guid": "7c8e8cf3-fdf6-4836-aadf-449c54912891",
    "_uuid": "435fcfba5eda3f91557266e8a14cf07c8abc1165"
   },
   "source": [
    "### About NLP Libararies\n",
    "\n",
    "+ Spacy\n",
    "    - [Spacy Tutorial by Analytics Vidiya](https://www.analyticsvidhya.com/blog/2017/04/natural-language-processing-made-easy-using-spacy-%E2%80%8Bin-python/)\n",
    "+ NLTK \n",
    "    - [NLTK book](http://www.nltk.org/book/)\n",
    "+ RE (Regular Expression libraries)\n",
    "    - [RE tutorial](https://docs.python.org/2/howto/regex.html)"
   ]
  },
  {
   "cell_type": "markdown",
   "metadata": {
    "_cell_guid": "b26c8e20-d0df-4277-86fa-0c43b5b2dea1",
    "_uuid": "177326adadee79f0aceae14fcb8c4939c898d40d"
   },
   "source": [
    "### Starting  feature Engg"
   ]
  },
  {
   "cell_type": "code",
   "execution_count": null,
   "metadata": {
    "_cell_guid": "1aa0d630-7ee7-4a64-a8eb-a639c2ed2e3c",
    "_uuid": "a48e8529aefcd1d78aac50c95d371e4490b234be",
    "collapsed": true
   },
   "outputs": [],
   "source": [
    "train = pd.read_csv('../input/WK7525train.csv')\n",
    "test = pd.read_csv('../input/WK7525test.csv')"
   ]
  },
  {
   "cell_type": "code",
   "execution_count": null,
   "metadata": {
    "_cell_guid": "b6e008c0-b181-471c-8b01-665c01229e73",
    "_uuid": "922955ae82920e1d693929bc73bb91571fd45654",
    "collapsed": true
   },
   "outputs": [],
   "source": [
    "train.head()"
   ]
  },
  {
   "cell_type": "code",
   "execution_count": null,
   "metadata": {
    "_cell_guid": "d1d9b4b5-137c-4382-af51-c36422112f4c",
    "_uuid": "689e4d3fc140b5708cc819cbc1d56bcab7da4efb",
    "collapsed": true,
    "scrolled": true
   },
   "outputs": [],
   "source": [
    "train['X_input'][1]"
   ]
  },
  {
   "cell_type": "markdown",
   "metadata": {
    "_cell_guid": "4db77bd2-e62f-48a6-90b2-71bc49d6220f",
    "_uuid": "94e9ab267e3f084836a5bc0777c9b9c79b9ce6e9"
   },
   "source": [
    "## Replacement Algorithm or Modules"
   ]
  },
  {
   "cell_type": "code",
   "execution_count": null,
   "metadata": {
    "_cell_guid": "f8c412f9-2fad-4d07-8596-a49ed349b208",
    "_uuid": "46f9b4fd4dda9007e7117eac04c91431c612c0f0",
    "collapsed": true
   },
   "outputs": [],
   "source": [
    "replacement_patterns = [  \n",
    "    (r'won\\'t', 'will not'),  \n",
    "    (r'can\\'t', 'cannot'),  \n",
    "    (r'i\\'m', 'i am'),  \n",
    "    (r'ain\\'t', 'is not'),  \n",
    "    (r'(\\w+)\\'ll', '\\g<1> will'),  \n",
    "    (r'(\\w+)n\\'t', '\\g<1> not'),  \n",
    "    (r'(\\w+)\\'ve', '\\g<1> have'),  \n",
    "    (r'(\\w+)\\'s', '\\g<1> is'),  \n",
    "    (r'(\\w+)\\'re', '\\g<1> are'),  \n",
    "    (r'(\\w+)\\'d', '\\g<1> would')\n",
    "]\n",
    "\n",
    "class RegexpReplacer(object):  \n",
    "    def __init__(self, patterns=replacement_patterns):    \n",
    "        self.patterns = [(re.compile(regex), repl) for (regex, repl) in patterns]  \n",
    "        \n",
    "    def replace(self, text):    \n",
    "        s = text    \n",
    "        for (pattern, repl) in self.patterns:      \n",
    "            s = re.sub(pattern, repl, s)    \n",
    "        return s\n"
   ]
  },
  {
   "cell_type": "markdown",
   "metadata": {
    "_cell_guid": "a2a01ba6-2de0-4aca-8188-2657157f8cdb",
    "_uuid": "ac001a09e9ce58239c8811eee0c284269eb1da0c"
   },
   "source": [
    "## Replacing negations with antonyms"
   ]
  },
  {
   "cell_type": "code",
   "execution_count": null,
   "metadata": {
    "_cell_guid": "0490b3bc-6f7e-4cae-ae89-9d9facde87ad",
    "_uuid": "aa4d6aae08622c494b52baf3aaf3a72ae4bc0f44",
    "collapsed": true
   },
   "outputs": [],
   "source": [
    "from nltk.corpus import wordnet\n",
    "\n",
    "class AntonymReplacer(object):\n",
    "    \n",
    "    def replace(self, word, pos=None):\n",
    "        antonyms = set()\n",
    "        for syn in wordnet.synsets(word, pos=pos):\n",
    "            for lemma in syn.lemmas():\n",
    "                for antonym in lemma.antonyms():\n",
    "                    antonyms.add(antonym.name())\n",
    "        if len(antonyms) == 1:\n",
    "            return antonyms.pop()\n",
    "        else:\n",
    "            return None\n",
    "        \n",
    "    def replace_negations(self, sent):\n",
    "        i, l = 0, len(sent)\n",
    "        words = []\n",
    "        while i < l:\n",
    "            word = sent[i]\n",
    "            if word == 'not' and i+1 < l:\n",
    "                ant = self.replace(sent[i+1])\n",
    "                if ant:\n",
    "                    words.append(ant)\n",
    "                    i += 2\n",
    "                    continue\n",
    "            words.append(word)\n",
    "            i += 1\n",
    "        return words\n"
   ]
  },
  {
   "cell_type": "markdown",
   "metadata": {
    "_cell_guid": "882af27d-a4f1-417d-ac36-5af356cfe6ce",
    "_uuid": "7049b94ceecc4362ea3fce1e9af7b6fa01f4d113"
   },
   "source": [
    "# Noise Removal"
   ]
  },
  {
   "cell_type": "code",
   "execution_count": null,
   "metadata": {
    "_cell_guid": "f3eccafd-920c-427e-be8d-38ef8f742d4b",
    "_uuid": "cc87a3dddb4bac673fc780b77f6285702921f56c",
    "collapsed": true
   },
   "outputs": [],
   "source": [
    "from nltk import wordpunct_tokenize\n",
    "from nltk import WordNetLemmatizer\n",
    "from nltk import sent_tokenize\n",
    "from nltk import pos_tag\n",
    "from nltk.corpus import wordnet as wn\n",
    "\n",
    "stoplist = set(stopwords.words(\"english\"))\n",
    "\n",
    "class Remove_Noise(object):\n",
    "    \n",
    "    def __init__(self,stop_word = stoplist):\n",
    "        self.stop_word = stoplist\n",
    "    \n",
    "    def noise_rm(self,doc):\n",
    "        doc = re.sub('[#$%^&\\',:()*+/<=>@[\\\\]^_``{|}~]',' ',doc)\n",
    "        doc = re.sub('[0-9]+',' ',doc)\n",
    "        doc = re.sub('\\n','',doc)\n",
    "        doc = re.sub(' +',' ',doc)\n",
    "        doc = doc.lower()\n",
    "        return doc\n",
    "    \n",
    "    def lemmatize(self,token, tag):\n",
    "        tag = {\n",
    "            'N': wn.NOUN,\n",
    "            'V': wn.VERB,\n",
    "            'R': wn.ADV,\n",
    "            'J': wn.ADJ\n",
    "        }.get(tag[0], wn.NOUN)\n",
    "        lemmatizer = WordNetLemmatizer()\n",
    "        return lemmatizer.lemmatize(token, tag)\n",
    "    \n",
    "    def tokenize(self,document): \n",
    "        #document = unicode(document,'utf-8')\n",
    "        lemmy = []\n",
    "        for sent in sent_tokenize(document):\n",
    "            for token, tag in pos_tag(wordpunct_tokenize(sent)):\n",
    "                if token in self.stop_word:\n",
    "                    continue\n",
    "                lemma = self.lemmatize(token, tag)\n",
    "                lemmy.append(lemma)\n",
    "        return lemmy"
   ]
  },
  {
   "cell_type": "code",
   "execution_count": null,
   "metadata": {
    "_cell_guid": "fd194442-7bad-4e88-a2bc-a80ab999498b",
    "_uuid": "205b148b414a68b5e0b8c383e9b01d2ce76b5140",
    "collapsed": true
   },
   "outputs": [],
   "source": [
    "def join_tokens(data):\n",
    "    ans = ' '.join(data)\n",
    "    return ans\n",
    "\n"
   ]
  },
  {
   "cell_type": "code",
   "execution_count": null,
   "metadata": {
    "_cell_guid": "4324e568-908d-492f-869b-f56e52b2088c",
    "_uuid": "315295b2d71250912458e8bf4061b157cac87ea3",
    "collapsed": true
   },
   "outputs": [],
   "source": [
    "replacer = RegexpReplacer()\n",
    "remover = Remove_Noise()\n",
    "AntoRep = AntonymReplacer()"
   ]
  },
  {
   "cell_type": "code",
   "execution_count": null,
   "metadata": {
    "_cell_guid": "6feec51d-d6be-415c-9a70-52bb9c44dff1",
    "_uuid": "9c6f06d6d25fdbcc660fb451f6e9a5ea6f335da7",
    "collapsed": true
   },
   "outputs": [],
   "source": [
    "train['X_input'].fillna(' ', inplace=True)\n",
    "test['X_input'].fillna(' ', inplace=True)"
   ]
  },
  {
   "cell_type": "code",
   "execution_count": null,
   "metadata": {
    "_cell_guid": "5d32adb1-c7e9-4907-b4d0-ffc236ee2382",
    "_uuid": "965de2a8f7d3de888e428e9cc347073a4044c21e",
    "collapsed": true
   },
   "outputs": [],
   "source": [
    "train['comment_full'] = train['X_input'].apply(replacer.replace)\n",
    "test['comment_full'] = test['X_input'].apply(replacer.replace)"
   ]
  },
  {
   "cell_type": "code",
   "execution_count": null,
   "metadata": {
    "_cell_guid": "900bda75-b565-4a96-abed-54356d803afc",
    "_uuid": "33b24864e5687d39d1ff50d8b8c1cf6813468cca",
    "collapsed": true
   },
   "outputs": [],
   "source": [
    "train['Remove_noise'] = train['comment_full'].apply(remover.noise_rm)\n",
    "test['Remove_noise'] = test['comment_full'].apply(remover.noise_rm)"
   ]
  },
  {
   "cell_type": "code",
   "execution_count": null,
   "metadata": {
    "_cell_guid": "574786cb-373f-48e9-9fb8-264f1c0863c8",
    "_uuid": "8a422256a20de235cf277d1ae5d7c1e0b08fc5ef",
    "collapsed": true
   },
   "outputs": [],
   "source": [
    "train['TokenandLemma'] = train['Remove_noise'].apply(remover.tokenize)\n",
    "test['TokenandLemma'] = test['Remove_noise'].apply(remover.tokenize)"
   ]
  },
  {
   "cell_type": "code",
   "execution_count": null,
   "metadata": {
    "_cell_guid": "7d81e0a1-866a-400d-95c3-c9029b519250",
    "_uuid": "fcd46ed5abee253cc3abb97f49f0b376adfc8aa2",
    "collapsed": true
   },
   "outputs": [],
   "source": [
    "train[\"Processed\"] = train['TokenandLemma'].apply(AntoRep.replace_negations)\n",
    "test[\"Processed\"] = test['TokenandLemma'].apply(AntoRep.replace_negations)"
   ]
  },
  {
   "cell_type": "code",
   "execution_count": null,
   "metadata": {
    "_cell_guid": "d0b60067-2093-46bf-a695-a66678a20864",
    "_uuid": "d28dfa24ef1a275627329bae10b5f4cb81586325",
    "collapsed": true
   },
   "outputs": [],
   "source": [
    "train[\"Sentence\"] = train[\"Processed\"].apply(join_tokens)\n",
    "test[\"Sentence\"] = test[\"Processed\"].apply(join_tokens)"
   ]
  },
  {
   "cell_type": "code",
   "execution_count": null,
   "metadata": {
    "_cell_guid": "ae0057ab-0af4-42ad-9372-d22aaf0dde0e",
    "_uuid": "263e93b64e92e3fb7d65ab26396ee8171486e379",
    "collapsed": true
   },
   "outputs": [],
   "source": [
    "train.to_pickle('train_processed.pkl')\n",
    "test.to_pickle('test_processed.pkl')"
   ]
  },
  {
   "cell_type": "markdown",
   "metadata": {
    "_cell_guid": "1140b645-57ed-44e0-881a-0a4c1105de4b",
    "_uuid": "dc14ca70d952a1c4583dc372c0114319499c9d11"
   },
   "source": [
    "# Using processed data and make VSM"
   ]
  },
  {
   "cell_type": "code",
   "execution_count": 1,
   "metadata": {
    "_cell_guid": "dfb3f870-92c7-4443-96af-c940a0148361",
    "_uuid": "45b35a5ba3a6da813b99ba553ee9b5a7409e791e",
    "collapsed": true
   },
   "outputs": [],
   "source": [
    "from sklearn.feature_extraction.text import TfidfVectorizer\n",
    "from sklearn.linear_model import LogisticRegression\n",
    "from sklearn.model_selection import cross_val_score\n",
    "from scipy.sparse import hstack"
   ]
  },
  {
   "cell_type": "code",
   "execution_count": 2,
   "metadata": {
    "_cell_guid": "cb65ccac-29a1-49aa-a088-2f50c17f923e",
    "_uuid": "1cc38c0829541299b4e37fdbb36dadf77212e342",
    "collapsed": true
   },
   "outputs": [],
   "source": [
    "from sklearn.externals import joblib\n",
    "import sys\n",
    "import warnings\n",
    "\n",
    "if not sys.warnoptions:\n",
    "    warnings.simplefilter(\"ignore\")"
   ]
  },
  {
   "cell_type": "code",
   "execution_count": 3,
   "metadata": {
    "_cell_guid": "bbc17f61-a303-43b4-820e-ce4129570cf6",
    "_uuid": "da80ad94b6338078ea494fb29101d5372fdd03ac",
    "collapsed": true
   },
   "outputs": [],
   "source": [
    "from sklearn.ensemble import ExtraTreesClassifier\n",
    "from sklearn.metrics import accuracy_score , precision_recall_fscore_support\n",
    "from sklearn.metrics import precision_recall_curve,precision_score,recall_score,classification_report"
   ]
  },
  {
   "cell_type": "code",
   "execution_count": 5,
   "metadata": {
    "_cell_guid": "bcfe636a-fcf6-4ac8-aedd-e0c1f3e5fb9d",
    "_uuid": "b2f2c3bbb57f5ac9e89f346a61beea0216e47c11",
    "collapsed": true
   },
   "outputs": [],
   "source": [
    "train = pd.read_pickle('train_processed.pkl')\n",
    "test = pd.read_pickle('test_processed.pkl')"
   ]
  },
  {
   "cell_type": "code",
   "execution_count": 35,
   "metadata": {
    "collapsed": true
   },
   "outputs": [],
   "source": [
    "df = train[train['Y'] == 1]"
   ]
  },
  {
   "cell_type": "code",
   "execution_count": 34,
   "metadata": {},
   "outputs": [
    {
     "ename": "KeyError",
     "evalue": "'1'",
     "output_type": "error",
     "traceback": [
      "\u001b[0;31m---------------------------------------------------------------------------\u001b[0m",
      "\u001b[0;31mKeyError\u001b[0m                                  Traceback (most recent call last)",
      "\u001b[0;32m<ipython-input-34-5ad32e264d51>\u001b[0m in \u001b[0;36m<module>\u001b[0;34m()\u001b[0m\n\u001b[0;32m----> 1\u001b[0;31m \u001b[0mdf\u001b[0m \u001b[0;34m=\u001b[0m \u001b[0mtrain\u001b[0m\u001b[0;34m.\u001b[0m\u001b[0mgroupby\u001b[0m\u001b[0;34m(\u001b[0m\u001b[0;34m[\u001b[0m\u001b[0;34m'Y'\u001b[0m\u001b[0;34m,\u001b[0m\u001b[0;34m'Sentence'\u001b[0m\u001b[0;34m]\u001b[0m\u001b[0;34m)\u001b[0m\u001b[0;34m.\u001b[0m\u001b[0mgroups\u001b[0m\u001b[0;34m[\u001b[0m\u001b[0;34m'1'\u001b[0m\u001b[0;34m]\u001b[0m\u001b[0;34m\u001b[0m\u001b[0m\n\u001b[0m",
      "\u001b[0;31mKeyError\u001b[0m: '1'"
     ]
    }
   ],
   "source": [
    "df = train.groupby(['Y','Sentence']).groups['1']"
   ]
  },
  {
   "cell_type": "code",
   "execution_count": 54,
   "metadata": {},
   "outputs": [
    {
     "data": {
      "text/plain": [
       "'Calling a dickhead a dickhead is not a personal attack. Sorry, but if he fucks with my edits again, I will call him a dickhead again!'"
      ]
     },
     "execution_count": 54,
     "metadata": {},
     "output_type": "execute_result"
    }
   ],
   "source": [
    "df['X_input'][45]"
   ]
  },
  {
   "cell_type": "code",
   "execution_count": null,
   "metadata": {
    "_cell_guid": "590abdc9-2631-4564-8179-34099d5753dc",
    "_uuid": "957c21f0ff83e68502deb468655c93edb25eae64",
    "collapsed": true
   },
   "outputs": [],
   "source": [
    "test.head()"
   ]
  },
  {
   "cell_type": "code",
   "execution_count": null,
   "metadata": {
    "_cell_guid": "94a43ea0-d0eb-4821-8500-f126e0599bad",
    "_uuid": "1da1b1929ca09176f71966ef77a98f417b7198f4",
    "collapsed": true
   },
   "outputs": [],
   "source": [
    "train_text = train['Sentence']\n",
    "test_text = test['Sentence']"
   ]
  },
  {
   "cell_type": "code",
   "execution_count": null,
   "metadata": {
    "_cell_guid": "f8b682b5-9139-45b7-8a1f-1f8e2f89f9e9",
    "_uuid": "66e8d855a9c83563fd99839afb10eeac07fa9f71",
    "collapsed": true
   },
   "outputs": [],
   "source": [
    "!ls -lah"
   ]
  },
  {
   "cell_type": "code",
   "execution_count": null,
   "metadata": {
    "_cell_guid": "c94d9a09-9c89-4f0a-9bb1-f7eb4f90521d",
    "_uuid": "3e8958ffa8761c2a82dc0ac624bb1bfb41125948",
    "collapsed": true
   },
   "outputs": [],
   "source": [
    "word_vec = TfidfVectorizer(sublinear_tf=True,strip_accents='unicode',analyzer='word',ngram_range=(1, 2),max_features=20000)"
   ]
  },
  {
   "cell_type": "code",
   "execution_count": null,
   "metadata": {
    "_cell_guid": "e74388b1-cd3b-40b6-bbf9-ff9205c50dce",
    "_uuid": "925aec92d8ef029de89d40de1897de04c1fc49cb",
    "collapsed": true
   },
   "outputs": [],
   "source": [
    "char_vec = TfidfVectorizer(sublinear_tf=True,strip_accents='unicode',analyzer='char',ngram_range=(1, 6),max_features=20000)"
   ]
  },
  {
   "cell_type": "code",
   "execution_count": null,
   "metadata": {
    "_cell_guid": "7e7c1ec5-44ae-4eaf-8669-75537a792d6d",
    "_uuid": "0e73bcfd6f02272646795b62c4d183ee455814bd",
    "collapsed": true
   },
   "outputs": [],
   "source": [
    "train_word_features = word_vec.fit_transform(train_text)\n",
    "test_word_features = word_vec.transform(test_text)"
   ]
  },
  {
   "cell_type": "code",
   "execution_count": null,
   "metadata": {
    "_cell_guid": "3059150c-7902-4f0e-ac25-33ab3094acce",
    "_uuid": "7b7915080181c925acf956e089e2dff722c9a8e0",
    "collapsed": true
   },
   "outputs": [],
   "source": [
    "train_char_features = char_vec.fit_transform(train_text)\n",
    "test_char_features = char_vec.transform(test_text)"
   ]
  },
  {
   "cell_type": "code",
   "execution_count": null,
   "metadata": {
    "_cell_guid": "0b3eddf0-9da1-459d-842e-6e2e4e9ab303",
    "_uuid": "baa707a65085587ca63af11a7a458026aed60871",
    "collapsed": true
   },
   "outputs": [],
   "source": [
    "train_features = hstack([train_char_features, train_word_features])\n",
    "test_features = hstack([test_char_features, test_word_features])"
   ]
  },
  {
   "cell_type": "markdown",
   "metadata": {
    "_cell_guid": "7360f9ad-5e95-4281-803d-57c8799df766",
    "_uuid": "6b9de410f12ab788b117eecb0fcf9887b5e2c156"
   },
   "source": [
    "# Using Model"
   ]
  },
  {
   "cell_type": "code",
   "execution_count": null,
   "metadata": {
    "_cell_guid": "c51c2ef0-751d-469f-8f68-4c6f00a0a9bf",
    "_uuid": "25cc8f3308acd88526d65c8e8f50642384ab9512",
    "collapsed": true
   },
   "outputs": [],
   "source": [
    "classifierEtree = ExtraTreesClassifier(n_estimators=200,n_jobs=-1)\n",
    "classifierLR = LogisticRegression(solver='sag')"
   ]
  },
  {
   "cell_type": "code",
   "execution_count": null,
   "metadata": {
    "_cell_guid": "e97aa404-c282-459d-950e-d33e0e9e1f29",
    "_uuid": "203e7bfde53abac662de5b29a04e043843a70a51",
    "collapsed": true
   },
   "outputs": [],
   "source": [
    "train_target = train['Y']\n",
    "test_target = test['Y']"
   ]
  },
  {
   "cell_type": "code",
   "execution_count": null,
   "metadata": {
    "_cell_guid": "0c2296ab-835f-4145-a577-5c866863f30a",
    "_uuid": "32d18b80e8b3b8ce085eebc15c3587ec8c53f7c9",
    "collapsed": true
   },
   "outputs": [],
   "source": [
    "classifierEtree.fit(train_features, train_target)"
   ]
  },
  {
   "cell_type": "code",
   "execution_count": null,
   "metadata": {
    "_cell_guid": "42111506-d856-4fa2-bd0a-15cbbf2d1f4f",
    "_uuid": "7cb35fb5d86eb4f40c65830dceb68f0938e8928b",
    "collapsed": true
   },
   "outputs": [],
   "source": [
    "classifierLR.fit(train_features, train_target)"
   ]
  },
  {
   "cell_type": "code",
   "execution_count": null,
   "metadata": {
    "_cell_guid": "a608df64-cc5f-4ed7-a518-ff4c4ea10776",
    "_uuid": "abf2e1b1690d7919eddc27e895faa44bb4754d86",
    "collapsed": true
   },
   "outputs": [],
   "source": [
    "test_predicted = classifierEtree.predict(test_features)\n",
    "    \n",
    "accuracy = accuracy_score(test_target,test_predicted)\n",
    "print(\"Accuracy: %.2f%%\" % (accuracy * 100.0))"
   ]
  },
  {
   "cell_type": "code",
   "execution_count": null,
   "metadata": {
    "_cell_guid": "1333e977-0037-498f-aa1f-0f50a8749421",
    "_uuid": "102a05d50e62c63d1327a7abee9c839897e78563",
    "collapsed": true
   },
   "outputs": [],
   "source": [
    "print(classification_report(test_target,test_predicted))"
   ]
  },
  {
   "cell_type": "code",
   "execution_count": null,
   "metadata": {
    "_cell_guid": "a1aefdd7-455a-458f-91aa-d319e94bd8f1",
    "_uuid": "e78e8efd3756e1c467ec764053880e462f2cf5c0",
    "collapsed": true
   },
   "outputs": [],
   "source": [
    "test_predicted = classifierLR.predict(test_features)\n",
    "    \n",
    "accuracy = accuracy_score(test_target,test_predicted)\n",
    "print(\"Accuracy: %.2f%%\" % (accuracy * 100.0))"
   ]
  },
  {
   "cell_type": "code",
   "execution_count": null,
   "metadata": {
    "_cell_guid": "7534eef3-ddef-4065-8a6d-559b4725aa7f",
    "_uuid": "793dda4357a587d0d26bfe9762fcc08979d380f5",
    "collapsed": true
   },
   "outputs": [],
   "source": [
    "print(classification_report(test_target,test_predicted))"
   ]
  },
  {
   "cell_type": "markdown",
   "metadata": {
    "_cell_guid": "65f6831f-b5d5-49e6-acaa-a6b6af7ad561",
    "_uuid": "195c128c55f959a32b53a3803b329a9b3a148e29"
   },
   "source": [
    "# Saving model\n"
   ]
  },
  {
   "cell_type": "code",
   "execution_count": null,
   "metadata": {
    "_cell_guid": "136a5f0d-1b4a-43cc-9051-135f4926e88f",
    "_uuid": "7759e310bf50f66258e1d7e41ef1d71002b448cd",
    "collapsed": true
   },
   "outputs": [],
   "source": [
    "filename = 'final_modelET.pkl'\n",
    "joblib.dump(classifierEtree,filename)"
   ]
  },
  {
   "cell_type": "code",
   "execution_count": null,
   "metadata": {
    "_cell_guid": "c8037360-dae8-48cf-9e21-02553afe7b48",
    "_uuid": "5dc51a7110e4646e551124bee0e420a58fe1f25f",
    "collapsed": true
   },
   "outputs": [],
   "source": [
    "filename = 'final_modelLR.pkl'\n",
    "joblib.dump(classifierLR,filename)"
   ]
  },
  {
   "cell_type": "code",
   "execution_count": null,
   "metadata": {
    "_cell_guid": "dd250af5-a7b2-4889-ba15-29e1b8305d60",
    "_uuid": "d20797e5892a66880d9a0464f258a61adaa99d74",
    "collapsed": true
   },
   "outputs": [],
   "source": [
    "filename = 'char_vectorizer.pkl'\n",
    "joblib.dump(char_vec,filename)"
   ]
  },
  {
   "cell_type": "code",
   "execution_count": null,
   "metadata": {
    "_cell_guid": "8f5eefc4-df58-4879-8e24-a5744f0a7357",
    "_uuid": "6a0878a2b8177eca534b6a23b1c361ae2583c476",
    "collapsed": true
   },
   "outputs": [],
   "source": [
    "filename = 'word_vectorizer.pkl'\n",
    "joblib.dump(word_vec,filename)"
   ]
  },
  {
   "cell_type": "markdown",
   "metadata": {
    "_cell_guid": "c90aba6d-9bc1-4e1e-803e-cde139ff2117",
    "_uuid": "b34691727f062f4c5bbf3ee02299d157158834fb"
   },
   "source": [
    "# Load Model"
   ]
  },
  {
   "cell_type": "code",
   "execution_count": 30,
   "metadata": {
    "_cell_guid": "b0b8bcd5-01f5-4fe5-9286-717246de50d3",
    "_uuid": "f6ddc35d2427616ca595821766e4cc1735da8046",
    "collapsed": true
   },
   "outputs": [],
   "source": [
    "classifier1 = joblib.load('final_modelLR.pkl')\n",
    "classifier2 = joblib.load('final_modelET.pkl')\n",
    "char_vec = joblib.load('char_vectorizer.pkl')\n",
    "word_vec = joblib.load('word_vectorizer.pkl')"
   ]
  },
  {
   "cell_type": "code",
   "execution_count": 54,
   "metadata": {},
   "outputs": [
    {
     "data": {
      "text/plain": [
       "pandas.core.series.Series"
      ]
     },
     "execution_count": 54,
     "metadata": {},
     "output_type": "execute_result"
    }
   ],
   "source": [
    "test = pd.read_pickle('test_processed.pkl')"
   ]
  },
  {
   "cell_type": "code",
   "execution_count": 193,
   "metadata": {
    "collapsed": true
   },
   "outputs": [],
   "source": [
    "test_text = \"you are moron\""
   ]
  },
  {
   "cell_type": "code",
   "execution_count": 194,
   "metadata": {
    "_cell_guid": "78f60760-c1df-4818-89b6-f2e2119eff73",
    "_uuid": "8029dc47fcdd68ddac932c6fcffc27481cdc96a6",
    "collapsed": true
   },
   "outputs": [],
   "source": [
    "test_word_features = word_vec.transform([test_text]).toarray()\n",
    "test_char_features = char_vec.transform([test_text]).toarray()"
   ]
  },
  {
   "cell_type": "code",
   "execution_count": 195,
   "metadata": {
    "collapsed": true
   },
   "outputs": [],
   "source": [
    "test_features = np.hstack([test_char_features, test_word_features])\n",
    "#test_target = test['Y']"
   ]
  },
  {
   "cell_type": "code",
   "execution_count": 200,
   "metadata": {
    "collapsed": true
   },
   "outputs": [],
   "source": [
    "test_predicted1 = classifier2.predict_proba(test_features)\n",
    "test_predicted2 = classifier1.predict_proba(test_features)  "
   ]
  },
  {
   "cell_type": "code",
   "execution_count": 201,
   "metadata": {
    "collapsed": true
   },
   "outputs": [],
   "source": [
    "ans = (test_predicted1 + test_predicted2)/2"
   ]
  },
  {
   "cell_type": "code",
   "execution_count": 216,
   "metadata": {
    "collapsed": true
   },
   "outputs": [],
   "source": [
    "toxic,not_toxic = ans.item(0),ans.item(1)"
   ]
  },
  {
   "cell_type": "code",
   "execution_count": 217,
   "metadata": {},
   "outputs": [
    {
     "data": {
      "text/plain": [
       "0.06799564284205767"
      ]
     },
     "execution_count": 217,
     "metadata": {},
     "output_type": "execute_result"
    }
   ],
   "source": [
    "toxic"
   ]
  },
  {
   "cell_type": "code",
   "execution_count": 218,
   "metadata": {},
   "outputs": [
    {
     "data": {
      "text/plain": [
       "0.9320043571579424"
      ]
     },
     "execution_count": 218,
     "metadata": {},
     "output_type": "execute_result"
    }
   ],
   "source": [
    "not_toxic"
   ]
  },
  {
   "cell_type": "code",
   "execution_count": null,
   "metadata": {
    "collapsed": true
   },
   "outputs": [],
   "source": []
  }
 ],
 "metadata": {
  "kernelspec": {
   "display_name": "Python 3",
   "language": "python",
   "name": "python3"
  },
  "language_info": {
   "codemirror_mode": {
    "name": "ipython",
    "version": 3
   },
   "file_extension": ".py",
   "mimetype": "text/x-python",
   "name": "python",
   "nbconvert_exporter": "python",
   "pygments_lexer": "ipython3",
   "version": "3.6.1"
  }
 },
 "nbformat": 4,
 "nbformat_minor": 1
}
